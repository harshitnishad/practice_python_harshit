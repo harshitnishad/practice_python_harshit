{
 "cells": [
  {
   "cell_type": "code",
   "execution_count": 2,
   "metadata": {},
   "outputs": [
    {
     "name": "stdout",
     "output_type": "stream",
     "text": [
      "hey my name is ('harshit', 'sam') and i am from ('india', 'danda')\n"
     ]
    }
   ],
   "source": [
    "letter=\"hey my name is {} and i am from {}\"\n",
    "name =\"harshit\",\"sam\"\n",
    "country=\"india\",\"danda\"\n",
    "print(letter.format(name,country))"
   ]
  },
  {
   "cell_type": "code",
   "execution_count": 8,
   "metadata": {},
   "outputs": [
    {
     "name": "stdout",
     "output_type": "stream",
     "text": [
      "hey my name is harshit and i am from india\n"
     ]
    }
   ],
   "source": [
    "letter=\"hey my name is {} and i am from {}\"\n",
    "name =\"harshit\"\n",
    "country=\"india\"\n",
    "print(letter.format(country,name))"
   ]
  },
  {
   "cell_type": "code",
   "execution_count": 9,
   "metadata": {},
   "outputs": [
    {
     "name": "stdout",
     "output_type": "stream",
     "text": [
      "hey my name is ('harshit', 'sam') and i am from ('india', 'danda')\n"
     ]
    }
   ],
   "source": [
    "letter=\"hey my name is {0} and i am from {1}\"\n",
    "name =\"harshit\",\n",
    "country=\"india\",\n",
    "print(letter.format(name,country))"
   ]
  },
  {
   "cell_type": "code",
   "execution_count": 11,
   "metadata": {},
   "outputs": [
    {
     "name": "stdout",
     "output_type": "stream",
     "text": [
      "hey my name is harshit and i am from india\n"
     ]
    }
   ],
   "source": [
    "letter=\"hey my name is {0} and i am from {1}\"\n",
    "name =\"harshit\"\n",
    "country=\"india\"\n",
    "print(letter.format(name,country))"
   ]
  },
  {
   "cell_type": "code",
   "execution_count": 12,
   "metadata": {},
   "outputs": [
    {
     "name": "stdout",
     "output_type": "stream",
     "text": [
      "hey my name is harshit and i am from india\n"
     ]
    }
   ],
   "source": [
    "name=\"harshit\"\n",
    "country=\"india\"\n",
    "\n",
    "print(f\"hey my name is {name} and i am from {country}\")\n",
    "\n"
   ]
  },
  {
   "cell_type": "code",
   "execution_count": 13,
   "metadata": {},
   "outputs": [
    {
     "name": "stdout",
     "output_type": "stream",
     "text": [
      "for only 49.10 dollars!\n"
     ]
    }
   ],
   "source": [
    "price=49.09999\n",
    "txt=f\"for only {price:.2f} dollars!\"\n",
    "print(txt)"
   ]
  },
  {
   "cell_type": "code",
   "execution_count": 14,
   "metadata": {},
   "outputs": [
    {
     "name": "stdout",
     "output_type": "stream",
     "text": [
      "hey my name is {name}  and i am from {country}\n"
     ]
    }
   ],
   "source": [
    "name=\"harshit\"\n",
    "country=\"india\"\n",
    "\n",
    "print(f\"hey my name is {{name}}  and i am from {{country}}\")"
   ]
  },
  {
   "cell_type": "code",
   "execution_count": 16,
   "metadata": {},
   "outputs": [
    {
     "name": "stdout",
     "output_type": "stream",
     "text": [
      "hey this is {{name}}\n"
     ]
    }
   ],
   "source": [
    "print(\"hey this is {{name}}\")"
   ]
  }
 ],
 "metadata": {
  "kernelspec": {
   "display_name": "Python 3",
   "language": "python",
   "name": "python3"
  },
  "language_info": {
   "codemirror_mode": {
    "name": "ipython",
    "version": 3
   },
   "file_extension": ".py",
   "mimetype": "text/x-python",
   "name": "python",
   "nbconvert_exporter": "python",
   "pygments_lexer": "ipython3",
   "version": "3.10.9"
  },
  "orig_nbformat": 4
 },
 "nbformat": 4,
 "nbformat_minor": 2
}
